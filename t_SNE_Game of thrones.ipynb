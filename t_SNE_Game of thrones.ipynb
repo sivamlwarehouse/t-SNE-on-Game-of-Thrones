{
  "nbformat": 4,
  "nbformat_minor": 0,
  "metadata": {
    "colab": {
      "name": "t-SNE.ipynb",
      "provenance": [],
      "collapsed_sections": []
    },
    "kernelspec": {
      "name": "python3",
      "display_name": "Python 3"
    }
  },
  "cells": [
    {
      "cell_type": "code",
      "metadata": {
        "id": "CM5US9GLHgYN",
        "colab_type": "code",
        "colab": {
          "base_uri": "https://localhost:8080/",
          "height": 122
        },
        "outputId": "7baa72a5-efbe-4ab2-a63f-ef79c8924be2"
      },
      "source": [
        "from google.colab import drive\n",
        "drive.mount('/content/gdrive')"
      ],
      "execution_count": 1,
      "outputs": [
        {
          "output_type": "stream",
          "text": [
            "Go to this URL in a browser: https://accounts.google.com/o/oauth2/auth?client_id=947318989803-6bn6qk8qdgf4n4g3pfee6491hc0brc4i.apps.googleusercontent.com&redirect_uri=urn%3aietf%3awg%3aoauth%3a2.0%3aoob&response_type=code&scope=email%20https%3a%2f%2fwww.googleapis.com%2fauth%2fdocs.test%20https%3a%2f%2fwww.googleapis.com%2fauth%2fdrive%20https%3a%2f%2fwww.googleapis.com%2fauth%2fdrive.photos.readonly%20https%3a%2f%2fwww.googleapis.com%2fauth%2fpeopleapi.readonly\n",
            "\n",
            "Enter your authorization code:\n",
            "··········\n",
            "Mounted at /content/gdrive\n"
          ],
          "name": "stdout"
        }
      ]
    },
    {
      "cell_type": "code",
      "metadata": {
        "id": "fLG-_kX-9Q6d",
        "colab_type": "code",
        "outputId": "d0c2242b-c16a-4823-937c-20bbbf551af6",
        "colab": {
          "base_uri": "https://localhost:8080/",
          "height": 71
        }
      },
      "source": [
        "#Load Python Libraries\n",
        "import swat\n",
        "import pandas as pd\n",
        "import numpy as np\n",
        "import matplotlib.pyplot as plt\n",
        "import seaborn as sns\n",
        "from time import time"
      ],
      "execution_count": 4,
      "outputs": [
        {
          "output_type": "stream",
          "text": [
            "/usr/local/lib/python3.6/dist-packages/statsmodels/tools/_testing.py:19: FutureWarning: pandas.util.testing is deprecated. Use the functions in the public API at pandas.testing instead.\n",
            "  import pandas.util.testing as tm\n"
          ],
          "name": "stderr"
        }
      ]
    },
    {
      "cell_type": "code",
      "metadata": {
        "id": "M6Jbj4OwH4yP",
        "colab_type": "code",
        "colab": {}
      },
      "source": [
        "#LoadData\n",
        "battles=pd.read_csv('/content/gdrive/My Drive/t_SNE_datasets/battles.csv')\n"
      ],
      "execution_count": 0,
      "outputs": []
    },
    {
      "cell_type": "markdown",
      "metadata": {
        "id": "8H6mBoSJZJbR",
        "colab_type": "text"
      },
      "source": [
        "**Preprocessing**"
      ]
    },
    {
      "cell_type": "code",
      "metadata": {
        "id": "A1yIPa-dOlwb",
        "colab_type": "code",
        "colab": {}
      },
      "source": [
        "#Preprocessing \n",
        "battles_data=battles.isnull().sum()\n"
      ],
      "execution_count": 0,
      "outputs": []
    },
    {
      "cell_type": "code",
      "metadata": {
        "id": "qpa7bNIqOlrw",
        "colab_type": "code",
        "colab": {}
      },
      "source": [
        "battles_data_with_na=battles_data[battles_data==0]"
      ],
      "execution_count": 0,
      "outputs": []
    },
    {
      "cell_type": "code",
      "metadata": {
        "id": "qMxXv6ESSF-_",
        "colab_type": "code",
        "colab": {}
      },
      "source": [
        "data=battles[battles_data_with_na.keys()]"
      ],
      "execution_count": 0,
      "outputs": []
    },
    {
      "cell_type": "code",
      "metadata": {
        "id": "69Mjcex0SmCH",
        "colab_type": "code",
        "colab": {}
      },
      "source": [
        "data=data.drop(data.columns[[0,3,4]],axis=1)\n",
        "dt_df=data.copy()"
      ],
      "execution_count": 0,
      "outputs": []
    },
    {
      "cell_type": "markdown",
      "metadata": {
        "id": "bNqKXNFlZPV7",
        "colab_type": "text"
      },
      "source": [
        "**Encode the Categorical Variables**"
      ]
    },
    {
      "cell_type": "code",
      "metadata": {
        "id": "6YQmpIpMT6U4",
        "colab_type": "code",
        "colab": {}
      },
      "source": [
        "\n",
        "le=LabelEncoder()\n",
        "for col in data.columns.values:\n",
        "    if data[col].dtypes == \"object\":\n",
        "        unique_labels=np.unique(data[col])\n",
        "        le.fit(unique_labels)\n",
        "        data[col]=le.transform(data[col])"
      ],
      "execution_count": 0,
      "outputs": []
    },
    {
      "cell_type": "markdown",
      "metadata": {
        "id": "L3Cb6956ZqJc",
        "colab_type": "text"
      },
      "source": [
        "**Feature scaling**"
      ]
    },
    {
      "cell_type": "code",
      "metadata": {
        "id": "86xilvGbSmJa",
        "colab_type": "code",
        "colab": {}
      },
      "source": [
        "\n",
        "x=data.iloc[:,:-1]\n",
        "y=data.iloc[:,-1]"
      ],
      "execution_count": 0,
      "outputs": []
    },
    {
      "cell_type": "code",
      "metadata": {
        "id": "Ba49KvicVI28",
        "colab_type": "code",
        "colab": {}
      },
      "source": [
        "from sklearn.preprocessing import StandardScaler\n",
        "standard_scaler=StandardScaler()\n",
        "x_std=standard_scaler.fit_transform(x)"
      ],
      "execution_count": 0,
      "outputs": []
    },
    {
      "cell_type": "code",
      "metadata": {
        "id": "uWZNN-LaSmGz",
        "colab_type": "code",
        "colab": {}
      },
      "source": [
        "#t-distributed stochastic Neighbour Embedding (t-SNE) Visualization\n",
        "from sklearn.manifold import TSNE\n",
        "t_sne=TSNE(n_components=2,random_state=0)\n",
        "x_std_2d =t_sne.fit_transform(x_std)"
      ],
      "execution_count": 0,
      "outputs": []
    },
    {
      "cell_type": "code",
      "metadata": {
        "id": "Mpt5ItXZWKca",
        "colab_type": "code",
        "colab": {}
      },
      "source": [
        "x_std_2d_df=pd.DataFrame(x_std_2d,columns=['dim_1','dim_2'])"
      ],
      "execution_count": 0,
      "outputs": []
    },
    {
      "cell_type": "code",
      "metadata": {
        "id": "KAoUKGQpYTS1",
        "colab_type": "code",
        "colab": {}
      },
      "source": [
        "tsne_out=pd.concat([dt_df,x_std_2d_df],axis=1)"
      ],
      "execution_count": 0,
      "outputs": []
    },
    {
      "cell_type": "code",
      "metadata": {
        "id": "OABQ-zj0YoJI",
        "colab_type": "code",
        "colab": {
          "base_uri": "https://localhost:8080/",
          "height": 34
        },
        "outputId": "fd66c14b-77d4-4527-cadf-c1634599406a"
      },
      "source": [
        "tsne_out.columns"
      ],
      "execution_count": 87,
      "outputs": [
        {
          "output_type": "execute_result",
          "data": {
            "text/plain": [
              "Index(['battle_number', 'battle_type', 'region', 'dim_1', 'dim_2'], dtype='object')"
            ]
          },
          "metadata": {
            "tags": []
          },
          "execution_count": 87
        }
      ]
    },
    {
      "cell_type": "code",
      "metadata": {
        "id": "YxSQqRM-WqWf",
        "colab_type": "code",
        "colab": {
          "base_uri": "https://localhost:8080/",
          "height": 701
        },
        "outputId": "491d1144-6f1b-4979-aeaf-09b4906a3bfe"
      },
      "source": [
        "# Plot t-SNE\n",
        "import seaborn as sns\n",
        "sns.set_context(\"notebook\", font_scale=1.1)\n",
        "sns.set_style(\"ticks\")\n",
        "\n",
        "sns.lmplot(x='dim_1',\n",
        "           y='dim_2',\n",
        "           data=tsne_out,\n",
        "           fit_reg=False,\n",
        "           legend=True,\n",
        "           size=9,\n",
        "           hue='region',\n",
        "           scatter_kws={\"s\":200, \"alpha\":1.0})\n",
        "\n",
        "plt.title('PCA Results: Game of Thrones', weight='bold').set_fontsize('14')\n",
        "plt.xlabel('Prin Comp 1', weight='bold').set_fontsize('10')\n",
        "plt.ylabel('Prin Comp 2', weight='bold').set_fontsize('10')"
      ],
      "execution_count": 89,
      "outputs": [
        {
          "output_type": "stream",
          "text": [
            "/usr/local/lib/python3.6/dist-packages/seaborn/regression.py:573: UserWarning: The `size` parameter has been renamed to `height`; please update your code.\n",
            "  warnings.warn(msg, UserWarning)\n"
          ],
          "name": "stderr"
        },
        {
          "output_type": "execute_result",
          "data": {
            "text/plain": [
              "<seaborn.axisgrid.FacetGrid at 0x7f63e8d56a90>"
            ]
          },
          "metadata": {
            "tags": []
          },
          "execution_count": 89
        },
        {
          "output_type": "display_data",
          "data": {
            "image/png": "[encoded data removed]",
            "text/plain": [
              "<Figure size 792.935x648 with 1 Axes>"
            ]
          },
          "metadata": {
            "tags": []
          }
        }
      ]
    },
    {
      "cell_type": "code",
      "metadata": {
        "id": "-OMABma_XPPD",
        "colab_type": "code",
        "colab": {}
      },
      "source": [
        ""
      ],
      "execution_count": 0,
      "outputs": []
    }
  ]
}